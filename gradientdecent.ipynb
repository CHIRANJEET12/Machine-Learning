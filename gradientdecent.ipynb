{
  "nbformat": 4,
  "nbformat_minor": 0,
  "metadata": {
    "colab": {
      "provenance": [],
      "authorship_tag": "ABX9TyOpjSmQmPmA3OD8+N85Id59",
      "include_colab_link": true
    },
    "kernelspec": {
      "name": "python3",
      "display_name": "Python 3"
    },
    "language_info": {
      "name": "python"
    }
  },
  "cells": [
    {
      "cell_type": "markdown",
      "metadata": {
        "id": "view-in-github",
        "colab_type": "text"
      },
      "source": [
        "<a href=\"https://colab.research.google.com/github/CHIRANJEET12/Machine-Learning/blob/main/gradientdecent.ipynb\" target=\"_parent\"><img src=\"https://colab.research.google.com/assets/colab-badge.svg\" alt=\"Open In Colab\"/></a>"
      ]
    },
    {
      "cell_type": "markdown",
      "source": [
        "Import libraries"
      ],
      "metadata": {
        "id": "ew-OA_aXIbQ1"
      }
    },
    {
      "cell_type": "code",
      "execution_count": 1,
      "metadata": {
        "id": "y7j0dIH7H9SU"
      },
      "outputs": [],
      "source": [
        "import numpy as np\n",
        "import matplotlib.pyplot as plt"
      ]
    },
    {
      "cell_type": "markdown",
      "source": [
        "Create simple dataset  or use dataset"
      ],
      "metadata": {
        "id": "oS0dSRARIfaz"
      }
    },
    {
      "cell_type": "code",
      "source": [
        "x = np.array([1,2,3,4,5])\n",
        "y = np.array([6,7,8,9,10])  # True equation: y = 2 + 3x"
      ],
      "metadata": {
        "id": "q3EzwENLIi6Q"
      },
      "execution_count": 2,
      "outputs": []
    },
    {
      "cell_type": "markdown",
      "source": [
        "Add a bias term (intercept column)====We need to add a column of 1s to account for 0."
      ],
      "metadata": {
        "id": "rxp6THL-Iz-L"
      }
    },
    {
      "cell_type": "code",
      "source": [
        "m = len(x)\n",
        "x_b = np.c_[np.ones(m),x]"
      ],
      "metadata": {
        "id": "Y_L5Qx3NI0Z8"
      },
      "execution_count": 3,
      "outputs": []
    },
    {
      "cell_type": "markdown",
      "source": [
        "initialize parameters"
      ],
      "metadata": {
        "id": "3VnxU0SNJW2z"
      }
    },
    {
      "cell_type": "code",
      "source": [
        "# Start with theta0=0, theta1=0\n",
        "theta = np.zeros(2)"
      ],
      "metadata": {
        "id": "qYxK3ctdJZtP"
      },
      "execution_count": 4,
      "outputs": []
    },
    {
      "cell_type": "markdown",
      "source": [
        "Set learning rate and iterations"
      ],
      "metadata": {
        "id": "d2-jStchJgVI"
      }
    },
    {
      "cell_type": "code",
      "source": [
        "alpha = 0.01    # Learning rate (small step size)\n",
        "iterations  = 1000   # How many steps to run\n"
      ],
      "metadata": {
        "id": "tBxDBDcSJin1"
      },
      "execution_count": 9,
      "outputs": []
    },
    {
      "cell_type": "markdown",
      "source": [
        "Gradient descent loop"
      ],
      "metadata": {
        "id": "rb9hC-idJwNS"
      }
    },
    {
      "cell_type": "code",
      "source": [
        "for i in range(iterations ):\n",
        "    predictions = x_b.dot(theta)             # Compute h(x) for all inputs\n",
        "    errors = predictions - y                 # Difference from actual y\n",
        "    gradients = (1/m) * x_b.T.dot(errors)    # Partial derivatives\n",
        "    theta = theta - alpha * gradients        # Update parameters  repeat convergence theorum\n"
      ],
      "metadata": {
        "id": "Du1Qt9GYJwvK"
      },
      "execution_count": 30,
      "outputs": []
    },
    {
      "cell_type": "code",
      "source": [
        "print(f\"Learned parameters: theta0 = {theta[0]:.2f}, theta1 = {theta[1]:.2f}\")"
      ],
      "metadata": {
        "colab": {
          "base_uri": "https://localhost:8080/"
        },
        "id": "WwWWmUSLKhgS",
        "outputId": "95999f23-9333-45f8-cd37-43fe7b48df09"
      },
      "execution_count": 31,
      "outputs": [
        {
          "output_type": "stream",
          "name": "stdout",
          "text": [
            "Learned parameters: theta0 = 5.00, theta1 = 1.00\n"
          ]
        }
      ]
    },
    {
      "cell_type": "code",
      "source": [
        "plt.scatter(x, y, color='blue', label='Actual points')\n",
        "plt.plot(x, x_b.dot(theta), color='red', label='Predicted line')\n",
        "plt.legend()\n",
        "plt.xlabel('X')\n",
        "plt.ylabel('y')\n",
        "plt.title('Linear Regression with Gradient Descent')\n",
        "plt.show()\n"
      ],
      "metadata": {
        "colab": {
          "base_uri": "https://localhost:8080/",
          "height": 472
        },
        "id": "j9HzVhjqKkbR",
        "outputId": "15388b85-8c2b-401e-d79d-96eabe51323d"
      },
      "execution_count": 32,
      "outputs": [
        {
          "output_type": "display_data",
          "data": {
            "text/plain": [
              "<Figure size 640x480 with 1 Axes>"
            ],
            "image/png": "[encoded data removed]"
          },
          "metadata": {}
        }
      ]
    },
    {
      "cell_type": "code",
      "source": [
        "from sklearn.metrics import r2_score"
      ],
      "metadata": {
        "id": "UOhojCsTOb5c"
      },
      "execution_count": 22,
      "outputs": []
    },
    {
      "cell_type": "code",
      "source": [
        "score = r2_score(y,predictions)\n",
        "print(score)"
      ],
      "metadata": {
        "colab": {
          "base_uri": "https://localhost:8080/"
        },
        "id": "6eulCxq_Oi2k",
        "outputId": "5b1f2920-c1c1-489a-fa6a-63b6147b4893"
      },
      "execution_count": 33,
      "outputs": [
        {
          "output_type": "stream",
          "name": "stdout",
          "text": [
            "0.9999995714454222\n"
          ]
        }
      ]
    }
  ]
}